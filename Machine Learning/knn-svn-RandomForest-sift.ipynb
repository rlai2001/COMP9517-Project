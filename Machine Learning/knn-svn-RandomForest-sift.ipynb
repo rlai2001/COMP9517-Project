{
 "cells": [
  {
   "cell_type": "code",
   "execution_count": 1,
   "id": "71403c7f",
   "metadata": {},
   "outputs": [],
   "source": [
    "import os\n",
    "import cv2\n",
    "import numpy as np\n",
    "import pandas as pd\n",
    "import matplotlib.pyplot as plt\n",
    "from sklearn.model_selection import train_test_split\n",
    "from sklearn import metrics\n",
    "from sklearn.neighbors import KNeighborsClassifier\n",
    "from sklearn.svm import SVC\n",
    "from sklearn.ensemble import RandomForestClassifier\n",
    "from sklearn.cluster import MiniBatchKMeans\n",
    "from skimage.feature import local_binary_pattern\n",
    "from sklearn.preprocessing import StandardScaler, MinMaxScaler\n",
    "from sklearn.decomposition import PCA\n",
    "\n",
    "\n",
    "dataset_path='Dataset'\n",
    "RANDOMSEED=1277\n",
    "num_type=15\n",
    "N_CLUSTERS = 100    \n",
    "MAX_SAMPLES = 125     \n",
    "label_list = [\n",
    "    \"Agriculture\", \"Airport\", \"Beach\", \"City\", \"Desert\", \"Forest\",\n",
    "    \"Grassland\", \"Highway\", \"Lake\", \"Mountain\", \"Parking\", \"Port\",\n",
    "    \"Railway\", \"Residential\", \"River\"\n",
    "]"
   ]
  },
  {
   "cell_type": "code",
   "execution_count": 2,
   "id": "d5e629f3-e8ab-4202-a99b-7ab2143b19e6",
   "metadata": {},
   "outputs": [],
   "source": [
    "code = pd.read_pickle(\"D:/temp/index_df_code.pkl\")\n",
    "sift_features = pd.read_pickle(\"D:/temp/index_df_sift_features.pkl\")\n",
    "\n",
    "index_df = pd.concat([code, sift_features], axis=1)"
   ]
  },
  {
   "cell_type": "code",
   "execution_count": 3,
   "id": "e6dd95ae-ad60-41eb-beef-49c648d28b90",
   "metadata": {},
   "outputs": [],
   "source": [
    "def create_visual_vocabulary(descriptors_list, n_clusters=N_CLUSTERS, max_samples=MAX_SAMPLES):\n",
    "    all_descriptors = np.vstack([d for d in descriptors_list if len(d) > 0])\n",
    "    \n",
    "    if len(all_descriptors) > max_samples:\n",
    "        np.random.seed(RANDOMSEED)\n",
    "        all_descriptors = all_descriptors[np.random.choice(len(all_descriptors), max_samples, replace=False)]\n",
    "    \n",
    "    # use MiniBatchKMeans\n",
    "    kmeans = MiniBatchKMeans(n_clusters=n_clusters, random_state=RANDOMSEED)\n",
    "    kmeans.fit(all_descriptors)\n",
    "    return kmeans"
   ]
  },
  {
   "cell_type": "code",
   "execution_count": 4,
   "id": "d78cef95-c004-452b-be34-5d49fcae995c",
   "metadata": {},
   "outputs": [],
   "source": [
    "def extract_bow_features(descriptors_list, kmeans):\n",
    "    n_clusters = kmeans.n_clusters\n",
    "    features = []\n",
    "    total = len(descriptors_list)\n",
    "\n",
    "    for i, descriptors in enumerate(descriptors_list):\n",
    "        print(f\"take BOW features:{i+1}/{total}\",end='\\r')\n",
    "\n",
    "        hist = np.zeros(n_clusters)\n",
    "        if descriptors is not None and len(descriptors) > 0:\n",
    "            labels = kmeans.predict(descriptors)\n",
    "            counts = np.bincount(labels)\n",
    "            if len(counts) < n_clusters:\n",
    "                hist[:len(counts)] = counts\n",
    "            else:\n",
    "                hist = counts[:n_clusters]\n",
    "            hist = hist.astype(np.float32)\n",
    "            hist /= hist.sum() + 1e-7\n",
    "        features.append(hist)\n",
    "\n",
    "    return np.array(features)\n"
   ]
  },
  {
   "cell_type": "code",
   "execution_count": 5,
   "id": "74a1b3ba",
   "metadata": {},
   "outputs": [
    {
     "name": "stdout",
     "output_type": "stream",
     "text": [
      "12000\n",
      "finish\n"
     ]
    }
   ],
   "source": [
    "totsize=len(index_df)\n",
    "print(totsize)\n",
    "train_size=int(totsize*0.8)\n",
    "test_size=int(totsize*0.2)\n",
    "\n",
    "train_per_code=train_size//num_type\n",
    "test_per_code=test_size//num_type\n",
    "\n",
    "train_df=pd.DataFrame()\n",
    "test_df=pd.DataFrame()\n",
    "# use train_test_split to split test and train set\n",
    "for code in index_df['code'].unique():\n",
    "    # every word, each word is code\n",
    "    sample_code= index_df[index_df['code'] == code]\n",
    "    train_samples, test_samples = train_test_split(\n",
    "        sample_code, \n",
    "        test_size=test_per_code, \n",
    "        train_size=train_per_code,\n",
    "        random_state=RANDOMSEED, \n",
    "        shuffle=True\n",
    "    )\n",
    " \n",
    "    train_df = pd.concat([train_df, train_samples], ignore_index=True)\n",
    "    test_df = pd.concat([test_df, test_samples], ignore_index=True)\n",
    "\n",
    "print('finish')"
   ]
  },
  {
   "cell_type": "code",
   "execution_count": 6,
   "id": "aec99168-eb93-41b6-afe3-e91cec32c573",
   "metadata": {},
   "outputs": [],
   "source": [
    "def printresult_pro(y_true, y_pred, y_proba, label_names=None, top_n=3):\n",
    "    # 1. normal score\n",
    "    print(\"Evaluation Metrics:\")\n",
    "    print(\"Accuracy Score:\", metrics.accuracy_score(y_true, y_pred))\n",
    "    print(\"Recall Score (macro):\", metrics.recall_score(y_true, y_pred, average='macro'))\n",
    "    print(\"F1 Score (macro):\", metrics.f1_score(y_true, y_pred, average='macro'))\n",
    "    print(\"Confusion Matrix:\")\n",
    "    print(metrics.confusion_matrix(y_true, y_pred))\n",
    "\n",
    "    # 2. precision / recall / f1 sorce for every class\n",
    "    print(\"\\nPer-Class Performance:\")\n",
    "    report = metrics.classification_report(y_true, y_pred, target_names=label_names, digits=3)\n",
    "    print(report)\n",
    "\n"
   ]
  },
  {
   "cell_type": "markdown",
   "id": "1fbacb6f",
   "metadata": {},
   "source": [
    "KNN-sift_features"
   ]
  },
  {
   "cell_type": "code",
   "execution_count": 7,
   "id": "d8ef1467",
   "metadata": {},
   "outputs": [
    {
     "name": "stderr",
     "output_type": "stream",
     "text": [
      "C:\\Users\\lele1\\anaconda3\\envs\\comp9417\\Lib\\site-packages\\joblib\\externals\\loky\\backend\\context.py:136: UserWarning: Could not find the number of physical cores for the following reason:\n",
      "[WinError 2] 系统找不到指定的文件。\n",
      "Returning the number of logical cores instead. You can silence this warning by setting LOKY_MAX_CPU_COUNT to the number of cores you want to use.\n",
      "  warnings.warn(\n",
      "  File \"C:\\Users\\lele1\\anaconda3\\envs\\comp9417\\Lib\\site-packages\\joblib\\externals\\loky\\backend\\context.py\", line 257, in _count_physical_cores\n",
      "    cpu_info = subprocess.run(\n",
      "               ^^^^^^^^^^^^^^^\n",
      "  File \"C:\\Users\\lele1\\anaconda3\\envs\\comp9417\\Lib\\subprocess.py\", line 550, in run\n",
      "    with Popen(*popenargs, **kwargs) as process:\n",
      "         ^^^^^^^^^^^^^^^^^^^^^^^^^^^\n",
      "  File \"C:\\Users\\lele1\\anaconda3\\envs\\comp9417\\Lib\\subprocess.py\", line 1028, in __init__\n",
      "    self._execute_child(args, executable, preexec_fn, close_fds,\n",
      "  File \"C:\\Users\\lele1\\anaconda3\\envs\\comp9417\\Lib\\subprocess.py\", line 1540, in _execute_child\n",
      "    hp, ht, pid, tid = _winapi.CreateProcess(executable, args,\n",
      "                       ^^^^^^^^^^^^^^^^^^^^^^^^^^^^^^^^^^^^^^^\n",
      "C:\\Users\\lele1\\anaconda3\\envs\\comp9417\\Lib\\site-packages\\sklearn\\cluster\\_kmeans.py:1955: UserWarning: MiniBatchKMeans is known to have a memory leak on Windows with MKL, when there are less chunks than available threads. You can prevent it by setting batch_size >= 5120 or by setting the environment variable OMP_NUM_THREADS=1\n",
      "  warnings.warn(\n"
     ]
    },
    {
     "name": "stdout",
     "output_type": "stream",
     "text": [
      "Visual vocabulary created.\n",
      "take BOW features:2400/2400\r"
     ]
    }
   ],
   "source": [
    "# Extract a subset of training SIFT descriptors for clustering\n",
    "train_sift_sample, _ = train_test_split(train_df['sift_features'], test_size=0.7, random_state=RANDOMSEED)\n",
    "kmeans = create_visual_vocabulary(train_sift_sample)\n",
    "print(\"Visual vocabulary created.\")\n",
    "\n",
    "# Retrieve full SIFT features from training and test sets\n",
    "full_train_sift = train_df['sift_features']\n",
    "test_sift_features = test_df['sift_features']\n",
    "\n",
    "# Convert SIFT descriptors into Bag of Words (BoW) feature vectors\n",
    "X_train_bow = extract_bow_features(full_train_sift, kmeans)\n",
    "X_test_bow = extract_bow_features(test_sift_features, kmeans)\n",
    "\n",
    "# Extract class labels\n",
    "y_train = np.array(train_df['code'])\n",
    "y_test = np.array(test_df['code'])\n"
   ]
  },
  {
   "cell_type": "code",
   "execution_count": 8,
   "id": "2254a680-0900-4b8a-a26d-2be0decb0438",
   "metadata": {},
   "outputs": [],
   "source": [
    "from sklearn.decomposition import PCA\n",
    "from sklearn.preprocessing import StandardScaler, MinMaxScaler\n",
    "\n",
    "pca = PCA(n_components=60)  #\n",
    "X_train_bow = pca.fit_transform(X_train_bow)\n",
    "X_test_bow = pca.transform(X_test_bow)\n",
    "\n",
    "scaler = StandardScaler() # scaler\n",
    "X_train_bow = scaler.fit_transform(X_train_bow)\n",
    "X_test_bow = scaler.transform(X_test_bow)"
   ]
  },
  {
   "cell_type": "code",
   "execution_count": 9,
   "id": "532c4939",
   "metadata": {},
   "outputs": [],
   "source": [
    "knn_clf_bow = KNeighborsClassifier(n_neighbors=3)\n",
    "knn_clf_bow.fit(X_train_bow, y_train)\n",
    "knn_clf_bow_predict_y = knn_clf_bow.predict(X_test_bow)\n",
    "knn_clf_bow_proba_y = knn_clf_bow.predict_proba(X_test_bow)\n",
    "\n"
   ]
  },
  {
   "cell_type": "code",
   "execution_count": 10,
   "id": "c33ba963",
   "metadata": {},
   "outputs": [
    {
     "name": "stdout",
     "output_type": "stream",
     "text": [
      "KNN-sift_features:\n",
      "Evaluation Metrics:\n",
      "Accuracy Score: 0.41375\n",
      "Recall Score (macro): 0.4137500000000001\n",
      "F1 Score (macro): 0.40218994428189797\n",
      "Confusion Matrix:\n",
      "[[ 67  20   7  17   1   4   2   9   7   4   1   1   6  12   2]\n",
      " [  3  63   5  33   0   2   0  10   4   1   2   3  31   3   0]\n",
      " [ 12  11  47  23   8   7   2  10  10  12   2   2   5   3   6]\n",
      " [  1  18   3 103   0   1   0   3   0   5   0   5  17   3   1]\n",
      " [ 27   6  18   4  40  25   5   5   7  14   2   3   0   2   2]\n",
      " [  0   2   3   3   4 136   4   1   1   3   1   0   1   1   0]\n",
      " [ 19  11  11   3  12  29  45   6   5   1   5   0   1   9   3]\n",
      " [  6  23   3  17   4   2   0  60   1   1   1   1  34   5   2]\n",
      " [ 14  23  16  26   4  15   1   9  20  12   0   1   6   9   4]\n",
      " [  2   4   8  21   7   5   1   3   9  93   0   1   1   2   3]\n",
      " [  1  14   1   9   3   5   0   6   0   3 103   2   9   3   1]\n",
      " [  1  16   1  50   1   2   1   5   2   6   2  54  16   1   2]\n",
      " [  2  17   2  25   1   1   0  19   1   7   0   1  84   0   0]\n",
      " [  1  20   0  40   1   9   1   3   4   7   0   0   4  69   1]\n",
      " [ 11  24   9  22   8  20   1  13   7  20   0   3   9   4   9]]\n",
      "\n",
      "Per-Class Performance:\n",
      "              precision    recall  f1-score   support\n",
      "\n",
      " Agriculture      0.401     0.419     0.410       160\n",
      "     Airport      0.232     0.394     0.292       160\n",
      "       Beach      0.351     0.294     0.320       160\n",
      "        City      0.260     0.644     0.371       160\n",
      "      Desert      0.426     0.250     0.315       160\n",
      "      Forest      0.517     0.850     0.643       160\n",
      "   Grassland      0.714     0.281     0.404       160\n",
      "     Highway      0.370     0.375     0.373       160\n",
      "        Lake      0.256     0.125     0.168       160\n",
      "    Mountain      0.492     0.581     0.533       160\n",
      "     Parking      0.866     0.644     0.738       160\n",
      "        Port      0.701     0.338     0.456       160\n",
      "     Railway      0.375     0.525     0.438       160\n",
      " Residential      0.548     0.431     0.483       160\n",
      "       River      0.250     0.056     0.092       160\n",
      "\n",
      "    accuracy                          0.414      2400\n",
      "   macro avg      0.451     0.414     0.402      2400\n",
      "weighted avg      0.451     0.414     0.402      2400\n",
      "\n"
     ]
    }
   ],
   "source": [
    "#result for KNN-sift_features\n",
    "print(\"KNN-sift_features:\")\n",
    "printresult_pro(y_test, knn_clf_bow_predict_y, knn_clf_bow_proba_y,label_names=label_list)\n"
   ]
  },
  {
   "cell_type": "code",
   "execution_count": 11,
   "id": "b497f844",
   "metadata": {},
   "outputs": [],
   "source": [
    "svm_rbf_sift = SVC(kernel='rbf', random_state=RANDOMSEED,probability=True)\n",
    "svm_rbf_sift.fit(X_train_bow, y_train)\n",
    "svm_rbf_sift_predict = svm_rbf_sift.predict(X_test_bow)\n",
    "svm_rbf_sift_proba = svm_rbf_sift.predict_proba(X_test_bow)\n"
   ]
  },
  {
   "cell_type": "code",
   "execution_count": 12,
   "id": "3dbaf693-c43e-401e-805d-07cf1247c4af",
   "metadata": {},
   "outputs": [
    {
     "name": "stdout",
     "output_type": "stream",
     "text": [
      "SVM with SIFT (BOW features):\n",
      "Evaluation Metrics:\n",
      "Accuracy Score: 0.6104166666666667\n",
      "Recall Score (macro): 0.6104166666666667\n",
      "F1 Score (macro): 0.6059114406414307\n",
      "Confusion Matrix:\n",
      "[[ 92   1   4   1  10   0  14   7   5   2   1   2   3   7  11]\n",
      " [ 12  85   1   7   2   1   0   8   5   1   0   5  24   4   5]\n",
      " [  3   1  89   2  11   1  10   8  11   4   1   7   1   0  11]\n",
      " [  1  12   4 106   0   1   1   6   1   2   1  10   7   6   2]\n",
      " [  4   1   5   2  81   2  36   1   3  18   0   2   0   0   5]\n",
      " [  0   0   2   0   4 131  12   1   1   4   1   0   0   2   2]\n",
      " [ 13   0   5   0  22   8  95   3   5   0   1   0   0   3   5]\n",
      " [  1   6   2   1   3   1   3 107   7   0   4   0  11   5   9]\n",
      " [ 13   9  20   1   5   5   5  10  39  13   1   4   1   8  26]\n",
      " [  1   1   4   3  11   0   1   0   8 117   0   2   0   4   8]\n",
      " [  0   2   0   1   3   1   0  10   0   0 135   0   2   3   3]\n",
      " [  1  11   1  16   1   0   0   3   0   1   2 100  11   1  12]\n",
      " [  1  11   1  13   0   0   0  18   2   2   0   5 103   1   3]\n",
      " [  0   2   0  10   2   1   1   2   3   2   1   0   1 132   3]\n",
      " [  6   8  12  13   8   9   6   8   7  11   2   7   3   7  53]]\n",
      "\n",
      "Per-Class Performance:\n",
      "              precision    recall  f1-score   support\n",
      "\n",
      " Agriculture      0.622     0.575     0.597       160\n",
      "     Airport      0.567     0.531     0.548       160\n",
      "       Beach      0.593     0.556     0.574       160\n",
      "        City      0.602     0.662     0.631       160\n",
      "      Desert      0.497     0.506     0.502       160\n",
      "      Forest      0.814     0.819     0.816       160\n",
      "   Grassland      0.516     0.594     0.552       160\n",
      "     Highway      0.557     0.669     0.608       160\n",
      "        Lake      0.402     0.244     0.304       160\n",
      "    Mountain      0.661     0.731     0.694       160\n",
      "     Parking      0.900     0.844     0.871       160\n",
      "        Port      0.694     0.625     0.658       160\n",
      "     Railway      0.617     0.644     0.630       160\n",
      " Residential      0.721     0.825     0.770       160\n",
      "       River      0.335     0.331     0.333       160\n",
      "\n",
      "    accuracy                          0.610      2400\n",
      "   macro avg      0.607     0.610     0.606      2400\n",
      "weighted avg      0.607     0.610     0.606      2400\n",
      "\n"
     ]
    }
   ],
   "source": [
    "print(\"SVM with SIFT (BOW features):\")\n",
    "printresult_pro(y_test, svm_rbf_sift_predict, svm_rbf_sift_proba,label_names=label_list)\n"
   ]
  },
  {
   "cell_type": "code",
   "execution_count": 13,
   "id": "c7632858-9755-4776-84c0-afd2c25a0f91",
   "metadata": {},
   "outputs": [],
   "source": [
    "rf_clf_bow = RandomForestClassifier(n_estimators=100, random_state=RANDOMSEED)\n",
    "rf_clf_bow.fit(X_train_bow, y_train)\n",
    "rf_clf_bow_predict = rf_clf_bow.predict(X_test_bow)\n",
    "rf_clf_bow_prob = rf_clf_bow.predict_proba(X_test_bow)\n"
   ]
  },
  {
   "cell_type": "code",
   "execution_count": 14,
   "id": "3c788e7f-746b-48e9-bf12-e89ea7f88d5b",
   "metadata": {},
   "outputs": [
    {
     "name": "stdout",
     "output_type": "stream",
     "text": [
      "Random Forest with SIFT (BOW features):\n",
      "Evaluation Metrics:\n",
      "Accuracy Score: 0.5575\n",
      "Recall Score (macro): 0.5575\n",
      "F1 Score (macro): 0.5484173462013172\n",
      "Confusion Matrix:\n",
      "[[ 95   3   9   2  11   0   4  11   6   1   2   1   1   7   7]\n",
      " [  7  73   1  11   1   1   0  14   1   2   1  10  23   4  11]\n",
      " [  7   5  85   4   8   2   3   8  12   9   0   5   2   1   9]\n",
      " [  1  10   3  99   1   0   0   4   0   1   3  14  14   9   1]\n",
      " [  7   0   7   1  87   7  18   1   5  14   2   5   0   1   5]\n",
      " [  0   0   3   0   4 128   8   1   4   6   1   0   0   2   3]\n",
      " [ 15   2  15   0  23   7  74   7   4   1   4   0   0   3   5]\n",
      " [  5  11   5   0   7   0   1  84   7   4   2   0  18  10   6]\n",
      " [  7   9  23   3   7   9   4  11  29  18   3   4   2  17  14]\n",
      " [  2   1   7   8   5   4   2   1   4 109   0   3   0   5   9]\n",
      " [  1   5   0   1   2   0   1   8   2   0 130   4   1   4   1]\n",
      " [  4  10   3  24   0   0   0   4   2   3   3  93  10   1   3]\n",
      " [  1  20   1  11   0   0   0  23   0   2   0   6  94   0   2]\n",
      " [  1   4   2  11   0   1   1   2   3   1   6   3   2 122   1]\n",
      " [  9   9  20   9   3  10   6  10   8  15   3   7   5  10  36]]\n",
      "\n",
      "Per-Class Performance:\n",
      "              precision    recall  f1-score   support\n",
      "\n",
      " Agriculture      0.586     0.594     0.590       160\n",
      "     Airport      0.451     0.456     0.453       160\n",
      "       Beach      0.462     0.531     0.494       160\n",
      "        City      0.538     0.619     0.576       160\n",
      "      Desert      0.547     0.544     0.545       160\n",
      "      Forest      0.757     0.800     0.778       160\n",
      "   Grassland      0.607     0.463     0.525       160\n",
      "     Highway      0.444     0.525     0.481       160\n",
      "        Lake      0.333     0.181     0.235       160\n",
      "    Mountain      0.586     0.681     0.630       160\n",
      "     Parking      0.812     0.812     0.812       160\n",
      "        Port      0.600     0.581     0.590       160\n",
      "     Railway      0.547     0.588     0.566       160\n",
      " Residential      0.622     0.762     0.685       160\n",
      "       River      0.319     0.225     0.264       160\n",
      "\n",
      "    accuracy                          0.557      2400\n",
      "   macro avg      0.547     0.557     0.548      2400\n",
      "weighted avg      0.547     0.557     0.548      2400\n",
      "\n"
     ]
    }
   ],
   "source": [
    "print(\"Random Forest with SIFT (BOW features):\")\n",
    "printresult_pro(y_test, rf_clf_bow_predict, rf_clf_bow_prob,label_names=label_list)\n"
   ]
  },
  {
   "cell_type": "code",
   "execution_count": null,
   "id": "ca0e405a-9ea1-4a10-be1b-af42ea64b310",
   "metadata": {},
   "outputs": [],
   "source": []
  }
 ],
 "metadata": {
  "kernelspec": {
   "display_name": "comp9417_25_04_23",
   "language": "python",
   "name": "comp9417"
  },
  "language_info": {
   "codemirror_mode": {
    "name": "ipython",
    "version": 3
   },
   "file_extension": ".py",
   "mimetype": "text/x-python",
   "name": "python",
   "nbconvert_exporter": "python",
   "pygments_lexer": "ipython3",
   "version": "3.12.9"
  }
 },
 "nbformat": 4,
 "nbformat_minor": 5
}
