{
 "cells": [
  {
   "cell_type": "code",
   "execution_count": 1,
   "id": "71403c7f",
   "metadata": {},
   "outputs": [],
   "source": [
    "import os\n",
    "import matplotlib.pyplot as plt\n",
    "import numpy as np\n",
    "import pandas as pd\n",
    "from sklearn.model_selection import train_test_split\n",
    "from sklearn import metrics\n",
    "from sklearn.neighbors import KNeighborsClassifier\n",
    "from sklearn.svm import SVC\n",
    "from sklearn.ensemble import RandomForestClassifier\n",
    "from sklearn.cluster import MiniBatchKMeans\n",
    "from sklearn.decomposition import PCA\n",
    "from sklearn.preprocessing import StandardScaler, MinMaxScaler\n",
    "from sklearn.feature_selection import SelectKBest, chi2\n",
    "from skimage.feature import local_binary_pattern\n",
    "\n",
    "\n",
    "dataset_path='Dataset'\n",
    "RANDOMSEED=1277\n",
    "num_type=15\n",
    "label_list = [\n",
    "    \"Agriculture\", \"Airport\", \"Beach\", \"City\", \"Desert\", \"Forest\",\n",
    "    \"Grassland\", \"Highway\", \"Lake\", \"Mountain\", \"Parking\", \"Port\",\n",
    "    \"Railway\", \"Residential\", \"River\"\n",
    "]"
   ]
  },
  {
   "cell_type": "code",
   "execution_count": 2,
   "id": "e6dd95ae-ad60-41eb-beef-49c648d28b90",
   "metadata": {},
   "outputs": [],
   "source": [
    "code = pd.read_pickle(\"D:/temp/index_df_code.pkl\")\n",
    "lbp_features = pd.read_pickle(\"D:/temp/index_df_lbp_features.pkl\")\n",
    "\n",
    "index_df = pd.concat([code, lbp_features], axis=1)\n"
   ]
  },
  {
   "cell_type": "code",
   "execution_count": 3,
   "id": "1a141c29-f40d-48da-a7f6-366695d15553",
   "metadata": {},
   "outputs": [
    {
     "name": "stdout",
     "output_type": "stream",
     "text": [
      "12000\n",
      "finish\n"
     ]
    }
   ],
   "source": [
    "totsize=len(index_df)\n",
    "print(totsize)\n",
    "train_size=int(totsize*0.8)\n",
    "test_size=int(totsize*0.2)\n",
    "\n",
    "train_per_code=train_size//num_type\n",
    "test_per_code=test_size//num_type\n",
    "\n",
    "train_df=pd.DataFrame()\n",
    "test_df=pd.DataFrame()\n",
    "# use train_test_split to split test and train set\n",
    "for code in index_df['code'].unique():\n",
    "    # every word, each word is code\n",
    "    sample_code= index_df[index_df['code'] == code]\n",
    "    train_samples, test_samples = train_test_split(\n",
    "        sample_code, \n",
    "        test_size=test_per_code, \n",
    "        train_size=train_per_code,\n",
    "        random_state=RANDOMSEED, \n",
    "        shuffle=True\n",
    "    )\n",
    " \n",
    "    train_df = pd.concat([train_df, train_samples], ignore_index=True)\n",
    "    test_df = pd.concat([test_df, test_samples], ignore_index=True)\n",
    "\n",
    "print('finish')"
   ]
  },
  {
   "cell_type": "code",
   "execution_count": 4,
   "id": "f48669a5-2675-49d0-bc6b-d22387b85171",
   "metadata": {},
   "outputs": [],
   "source": [
    "def printresult_pro(y_true, y_pred, y_proba, label_names=None, top_n=3):\n",
    "    print(\"Evaluation Metrics:\")\n",
    "    print(\"Accuracy Score:\", metrics.accuracy_score(y_true, y_pred))\n",
    "    print(\"Recall Score (macro):\", metrics.recall_score(y_true, y_pred, average='macro'))\n",
    "    print(\"F1 Score (macro):\", metrics.f1_score(y_true, y_pred, average='macro'))\n",
    "    print(\"Confusion Matrix:\")\n",
    "    print(metrics.confusion_matrix(y_true, y_pred))\n",
    "\n",
    "    # 2. precision / recall / f1\n",
    "    print(\"\\nPer-Class Performance:\")\n",
    "    report = metrics.classification_report(y_true, y_pred, target_names=label_names, digits=3)\n",
    "    print(report)"
   ]
  },
  {
   "cell_type": "code",
   "execution_count": 5,
   "id": "d8ef1467",
   "metadata": {},
   "outputs": [],
   "source": [
    "train_lbp = np.array(train_df['lbp_features'].tolist())\n",
    "test_lbp = np.array(test_df['lbp_features'].tolist())\n",
    "\n",
    "\n",
    "pca = PCA(n_components=60)  #\n",
    "train_lbp = pca.fit_transform(train_lbp)\n",
    "test_lbp = pca.transform(test_lbp)\n",
    "\n",
    "scaler = StandardScaler() # scaler\n",
    "train_lbp = scaler.fit_transform(train_lbp)\n",
    "test_lbp = scaler.transform(test_lbp)\n",
    "\n",
    "y_train = np.array(train_df['code'])\n",
    "y_test = np.array(test_df['code'])\n"
   ]
  },
  {
   "cell_type": "markdown",
   "id": "34278244-25c5-4cee-b551-72f96ee1f684",
   "metadata": {},
   "source": [
    "KNN-lbp"
   ]
  },
  {
   "cell_type": "code",
   "execution_count": 6,
   "id": "532c4939",
   "metadata": {},
   "outputs": [
    {
     "name": "stderr",
     "output_type": "stream",
     "text": [
      "C:\\Users\\lele1\\anaconda3\\envs\\comp9417\\Lib\\site-packages\\joblib\\externals\\loky\\backend\\context.py:136: UserWarning: Could not find the number of physical cores for the following reason:\n",
      "[WinError 2] 系统找不到指定的文件。\n",
      "Returning the number of logical cores instead. You can silence this warning by setting LOKY_MAX_CPU_COUNT to the number of cores you want to use.\n",
      "  warnings.warn(\n",
      "  File \"C:\\Users\\lele1\\anaconda3\\envs\\comp9417\\Lib\\site-packages\\joblib\\externals\\loky\\backend\\context.py\", line 257, in _count_physical_cores\n",
      "    cpu_info = subprocess.run(\n",
      "               ^^^^^^^^^^^^^^^\n",
      "  File \"C:\\Users\\lele1\\anaconda3\\envs\\comp9417\\Lib\\subprocess.py\", line 550, in run\n",
      "    with Popen(*popenargs, **kwargs) as process:\n",
      "         ^^^^^^^^^^^^^^^^^^^^^^^^^^^\n",
      "  File \"C:\\Users\\lele1\\anaconda3\\envs\\comp9417\\Lib\\subprocess.py\", line 1028, in __init__\n",
      "    self._execute_child(args, executable, preexec_fn, close_fds,\n",
      "  File \"C:\\Users\\lele1\\anaconda3\\envs\\comp9417\\Lib\\subprocess.py\", line 1540, in _execute_child\n",
      "    hp, ht, pid, tid = _winapi.CreateProcess(executable, args,\n",
      "                       ^^^^^^^^^^^^^^^^^^^^^^^^^^^^^^^^^^^^^^^\n"
     ]
    }
   ],
   "source": [
    "knn_lbp = KNeighborsClassifier(n_neighbors=3, weights='distance')\n",
    "\n",
    "knn_lbp.fit(train_lbp, y_train)\n",
    "knn_lbp_predict_y = knn_lbp.predict(test_lbp)\n",
    "knn_clf_predict_y_proba = knn_lbp.predict_proba(test_lbp)\n",
    "\n"
   ]
  },
  {
   "cell_type": "code",
   "execution_count": 7,
   "id": "779cc180-4e42-4a53-b2f7-719371eabffa",
   "metadata": {},
   "outputs": [
    {
     "name": "stdout",
     "output_type": "stream",
     "text": [
      "KNN-lbp:\n",
      "Evaluation Metrics:\n",
      "Accuracy Score: 0.51625\n",
      "Recall Score (macro): 0.5162500000000001\n",
      "F1 Score (macro): 0.5152049190097467\n",
      "Confusion Matrix:\n",
      "[[ 91  12   7   2   8   0   5   5   3   6   6   5   3   2   5]\n",
      " [ 12  55   2  17   1   0   0  20   0  10   8   0  21   8   6]\n",
      " [  5   2  62   3  22   2   0   1  11   7   7  14   1  10  13]\n",
      " [  3  11   2  71   2   0   0  12   1   5  14   1  26   9   3]\n",
      " [  8   2  21   6  76   0  16   1   2  13   2   1   0   2  10]\n",
      " [  0   1   2   0   2 120  14   1   2  10   0   1   0   4   3]\n",
      " [  4   1   6   0   9  14 110   3   1   1   0   1   0   2   8]\n",
      " [ 12  17   2   9   1   1   0  69   1   4   7   1  16  18   2]\n",
      " [  2   3  12   1   4   5   1   0  87  12   0   8   3   2  20]\n",
      " [  2  11   3   4  10  11   2   2   6  88   1   0   1   6  13]\n",
      " [  3   8   2  15   4   0   1   4   2   1  89   4   6  16   5]\n",
      " [  6   4  10   3   0   0   0   2  12   1   7 107   3   3   2]\n",
      " [  1  19   0  33   2   0   0  20   1   3   3   1  69   6   2]\n",
      " [  2   7   3   5   5   2   0   1   0  11   9   1   4 104   6]\n",
      " [  8   6   8  11  13   5   6   5  17  20   4   6   3   7  41]]\n",
      "\n",
      "Per-Class Performance:\n",
      "              precision    recall  f1-score   support\n",
      "\n",
      " Agriculture      0.572     0.569     0.571       160\n",
      "     Airport      0.346     0.344     0.345       160\n",
      "       Beach      0.437     0.388     0.411       160\n",
      "        City      0.394     0.444     0.418       160\n",
      "      Desert      0.478     0.475     0.476       160\n",
      "      Forest      0.750     0.750     0.750       160\n",
      "   Grassland      0.710     0.688     0.698       160\n",
      "     Highway      0.473     0.431     0.451       160\n",
      "        Lake      0.596     0.544     0.569       160\n",
      "    Mountain      0.458     0.550     0.500       160\n",
      "     Parking      0.567     0.556     0.562       160\n",
      "        Port      0.709     0.669     0.688       160\n",
      "     Railway      0.442     0.431     0.437       160\n",
      " Residential      0.523     0.650     0.579       160\n",
      "       River      0.295     0.256     0.274       160\n",
      "\n",
      "    accuracy                          0.516      2400\n",
      "   macro avg      0.517     0.516     0.515      2400\n",
      "weighted avg      0.517     0.516     0.515      2400\n",
      "\n"
     ]
    }
   ],
   "source": [
    "###### result for KNN-sift_features\n",
    "print(\"KNN-lbp:\")\n",
    "#printresult(y_test, knn_lbp_predict_y)\n",
    "printresult_pro(y_test, knn_lbp_predict_y, knn_clf_predict_y_proba,label_names=label_list)\n"
   ]
  },
  {
   "cell_type": "markdown",
   "id": "48720369-82d2-459c-9767-cdad2afb890c",
   "metadata": {},
   "source": [
    "SVC-LBP"
   ]
  },
  {
   "cell_type": "code",
   "execution_count": 8,
   "id": "b497f844",
   "metadata": {},
   "outputs": [],
   "source": [
    "svc_lbp = SVC(kernel='rbf', random_state=RANDOMSEED,probability=True)\n",
    "svc_lbp.fit(train_lbp, y_train)\n",
    "svc_lbp_predict = svc_lbp.predict(test_lbp)\n",
    "svc_lbp_prob = svc_lbp.predict_proba(test_lbp)\n"
   ]
  },
  {
   "cell_type": "code",
   "execution_count": 9,
   "id": "3dbaf693-c43e-401e-805d-07cf1247c4af",
   "metadata": {},
   "outputs": [
    {
     "name": "stdout",
     "output_type": "stream",
     "text": [
      "svc-lbp:\n",
      "Evaluation Metrics:\n",
      "Accuracy Score: 0.6075\n",
      "Recall Score (macro): 0.6075\n",
      "F1 Score (macro): 0.6055839400608461\n",
      "Confusion Matrix:\n",
      "[[103  13   9   4   7   0   2   1   1   5   6   1   3   1   4]\n",
      " [ 12  79   1  10   1   1   0  16   0  10  11   0  11   4   4]\n",
      " [  7   3  72   3  16   3   2   1   9   5   1  10   0  10  18]\n",
      " [  2   8   3  94   1   0   0   8   0   6  14   0  17   5   2]\n",
      " [ 10   1  12   4  95   0   4   1   2  19   1   1   0   4   6]\n",
      " [  0   0   0   0   1 140  10   0   2   4   0   1   0   0   2]\n",
      " [  6   0   7   0   8  17 115   2   0   2   0   0   0   1   2]\n",
      " [ 11  20   2   5   1   0   0  76   1   7   3   0  14  19   1]\n",
      " [  1   0  12   0   5   3   6   0  98  11   0   5   0   2  17]\n",
      " [  0   1   1   2   7   4   3   2   1 122   0   0   3   4  10]\n",
      " [  3  13   2  13   1   0   0   6   1   3  97   3   5  10   3]\n",
      " [  5   1   7   3   1   0   0   0  12   1   6 119   0   2   3]\n",
      " [  2  11   0  32   0   0   0  12   1   8   4   0  85   3   2]\n",
      " [  1   7   2   6   2   0   0   7   0   9   8   0   2 109   7]\n",
      " [  8   3   6  10   6   3   3   1  24  23   4   3   1  11  54]]\n",
      "\n",
      "Per-Class Performance:\n",
      "              precision    recall  f1-score   support\n",
      "\n",
      " Agriculture      0.602     0.644     0.622       160\n",
      "     Airport      0.494     0.494     0.494       160\n",
      "       Beach      0.529     0.450     0.486       160\n",
      "        City      0.505     0.588     0.543       160\n",
      "      Desert      0.625     0.594     0.609       160\n",
      "      Forest      0.819     0.875     0.846       160\n",
      "   Grassland      0.793     0.719     0.754       160\n",
      "     Highway      0.571     0.475     0.519       160\n",
      "        Lake      0.645     0.613     0.628       160\n",
      "    Mountain      0.519     0.762     0.618       160\n",
      "     Parking      0.626     0.606     0.616       160\n",
      "        Port      0.832     0.744     0.785       160\n",
      "     Railway      0.603     0.531     0.565       160\n",
      " Residential      0.589     0.681     0.632       160\n",
      "       River      0.400     0.338     0.366       160\n",
      "\n",
      "    accuracy                          0.608      2400\n",
      "   macro avg      0.610     0.608     0.606      2400\n",
      "weighted avg      0.610     0.608     0.606      2400\n",
      "\n"
     ]
    }
   ],
   "source": [
    "#result for svc-lbp\n",
    "print(\"svc-lbp:\")\n",
    "printresult_pro(y_test, svc_lbp_predict, svc_lbp_prob,label_names=label_list)\n"
   ]
  },
  {
   "cell_type": "code",
   "execution_count": 10,
   "id": "3c788e7f-746b-48e9-bf12-e89ea7f88d5b",
   "metadata": {},
   "outputs": [],
   "source": [
    "rf_lbp = RandomForestClassifier(n_estimators=100, random_state=RANDOMSEED)\n",
    "rf_lbp.fit(train_lbp, y_train)\n",
    "rf_lbp_predict = rf_lbp.predict(test_lbp)\n",
    "rf_lbp_prob = rf_lbp.predict_proba(test_lbp)"
   ]
  },
  {
   "cell_type": "code",
   "execution_count": 11,
   "id": "c2daf45d-5bd5-45bf-ad20-dbec79b64cf0",
   "metadata": {},
   "outputs": [
    {
     "name": "stdout",
     "output_type": "stream",
     "text": [
      "rf-lbp:\n",
      "Evaluation Metrics:\n",
      "Accuracy Score: 0.58375\n",
      "Recall Score (macro): 0.58375\n",
      "F1 Score (macro): 0.5807112508230017\n",
      "Confusion Matrix:\n",
      "[[101  18   8   1   6   0   2   3   4   4   5   2   2   1   3]\n",
      " [ 15  65   1  12   3   0   0  22   0   9   4   1  13  10   5]\n",
      " [  5   3  65   1  17   1   1   1  16   8   9   8   0   9  16]\n",
      " [  2  10   1  87   1   0   0   5   1   5  16   0  21   8   3]\n",
      " [  9   1  12   3  95   0   5   1   3  16   0   0   0   7   8]\n",
      " [  0   0   1   0   2 129  17   0   2   5   0   1   0   3   0]\n",
      " [  4   1   4   0  12  14 119   2   0   1   0   0   0   1   2]\n",
      " [ 14  20   1   2   1   0   2  76   1   5   5   1  11  19   2]\n",
      " [  2   0  13   0   4   2   7   0 107   5   0   5   0   2  13]\n",
      " [  2   3   0   2   7   5   3   2   2 115   0   0   2   6  11]\n",
      " [  2  10   3  15   1   0   0   6   2   1  93   5   7  12   3]\n",
      " [  5   1   9   1   0   0   0   0  13   1   7 116   3   2   2]\n",
      " [  2  19   0  28   2   0   0  16   0   7   3   1  75   6   1]\n",
      " [  0   6   1   7   2   2   0   5   0  13   8   0   2 108   6]\n",
      " [  5   3  10   9   4   5   4   1  20  25   6   5   1  12  50]]\n",
      "\n",
      "Per-Class Performance:\n",
      "              precision    recall  f1-score   support\n",
      "\n",
      " Agriculture      0.601     0.631     0.616       160\n",
      "     Airport      0.406     0.406     0.406       160\n",
      "       Beach      0.504     0.406     0.450       160\n",
      "        City      0.518     0.544     0.530       160\n",
      "      Desert      0.605     0.594     0.599       160\n",
      "      Forest      0.816     0.806     0.811       160\n",
      "   Grassland      0.744     0.744     0.744       160\n",
      "     Highway      0.543     0.475     0.507       160\n",
      "        Lake      0.626     0.669     0.647       160\n",
      "    Mountain      0.523     0.719     0.605       160\n",
      "     Parking      0.596     0.581     0.589       160\n",
      "        Port      0.800     0.725     0.761       160\n",
      "     Railway      0.547     0.469     0.505       160\n",
      " Residential      0.524     0.675     0.590       160\n",
      "       River      0.400     0.312     0.351       160\n",
      "\n",
      "    accuracy                          0.584      2400\n",
      "   macro avg      0.584     0.584     0.581      2400\n",
      "weighted avg      0.584     0.584     0.581      2400\n",
      "\n"
     ]
    }
   ],
   "source": [
    "#result for rf-lbp\n",
    "print(\"rf-lbp:\")\n",
    "printresult_pro(y_test, rf_lbp_predict, rf_lbp_prob,label_names=label_list)\n"
   ]
  },
  {
   "cell_type": "code",
   "execution_count": null,
   "id": "47f96715-cc61-4ac1-bef3-9268966df7b7",
   "metadata": {},
   "outputs": [],
   "source": []
  },
  {
   "cell_type": "code",
   "execution_count": null,
   "id": "79ad61a7-687d-4dea-b96b-a9a3f02aff61",
   "metadata": {},
   "outputs": [],
   "source": []
  },
  {
   "cell_type": "code",
   "execution_count": null,
   "id": "fad08dfd-c3ad-4649-a5dd-5735c40c8418",
   "metadata": {},
   "outputs": [],
   "source": []
  },
  {
   "cell_type": "code",
   "execution_count": null,
   "id": "c6be5ef7-5e57-4ffe-bcfa-561c87b4afd3",
   "metadata": {},
   "outputs": [],
   "source": []
  }
 ],
 "metadata": {
  "kernelspec": {
   "display_name": "comp9417_25_04_23",
   "language": "python",
   "name": "comp9417"
  },
  "language_info": {
   "codemirror_mode": {
    "name": "ipython",
    "version": 3
   },
   "file_extension": ".py",
   "mimetype": "text/x-python",
   "name": "python",
   "nbconvert_exporter": "python",
   "pygments_lexer": "ipython3",
   "version": "3.12.9"
  }
 },
 "nbformat": 4,
 "nbformat_minor": 5
}
