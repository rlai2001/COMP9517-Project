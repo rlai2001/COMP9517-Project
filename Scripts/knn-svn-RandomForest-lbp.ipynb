{
 "cells": [
  {
   "cell_type": "code",
   "execution_count": 1,
   "id": "71403c7f",
   "metadata": {},
   "outputs": [],
   "source": [
    "import os\n",
    "import matplotlib.pyplot as plt\n",
    "import numpy as np\n",
    "import pandas as pd\n",
    "from sklearn.model_selection import train_test_split\n",
    "from sklearn import metrics\n",
    "from sklearn.neighbors import KNeighborsClassifier\n",
    "from sklearn.svm import SVC\n",
    "from sklearn.ensemble import RandomForestClassifier\n",
    "from sklearn.cluster import MiniBatchKMeans\n",
    "from sklearn.decomposition import PCA\n",
    "from sklearn.preprocessing import StandardScaler, MinMaxScaler\n",
    "from sklearn.feature_selection import SelectKBest, chi2\n",
    "from skimage.feature import local_binary_pattern\n",
    "\n",
    "\n",
    "dataset_path='Dataset'\n",
    "RANDOMSEED=1277\n",
    "num_type=15\n",
    "label_list = [\n",
    "    \"Agriculture\", \"Airport\", \"Beach\", \"City\", \"Desert\", \"Forest\",\n",
    "    \"Grassland\", \"Highway\", \"Lake\", \"Mountain\", \"Parking\", \"Port\",\n",
    "    \"Railway\", \"Residential\", \"River\"\n",
    "]"
   ]
  },
  {
   "cell_type": "code",
   "execution_count": 2,
   "id": "e6dd95ae-ad60-41eb-beef-49c648d28b90",
   "metadata": {},
   "outputs": [],
   "source": [
    "code = pd.read_pickle(\"D:/temp/index_df_code.pkl\")\n",
    "lbp_features = pd.read_pickle(\"D:/temp/index_df_lbp_features.pkl\")\n",
    "\n",
    "index_df = pd.concat([code, lbp_features], axis=1)\n"
   ]
  },
  {
   "cell_type": "code",
   "execution_count": 3,
   "id": "1a141c29-f40d-48da-a7f6-366695d15553",
   "metadata": {},
   "outputs": [
    {
     "name": "stdout",
     "output_type": "stream",
     "text": [
      "12000\n",
      "finish\n"
     ]
    }
   ],
   "source": [
    "totsize=len(index_df)\n",
    "print(totsize)\n",
    "train_size=int(totsize*0.8)\n",
    "test_size=int(totsize*0.2)\n",
    "\n",
    "train_per_code=train_size//num_type\n",
    "test_per_code=test_size//num_type\n",
    "\n",
    "train_df=pd.DataFrame()\n",
    "test_df=pd.DataFrame()\n",
    "# use train_test_split to split test and train set\n",
    "for code in index_df['code'].unique():\n",
    "    # every word, each word is code\n",
    "    sample_code= index_df[index_df['code'] == code]\n",
    "    train_samples, test_samples = train_test_split(\n",
    "        sample_code, \n",
    "        test_size=test_per_code, \n",
    "        train_size=train_per_code,\n",
    "        random_state=RANDOMSEED, \n",
    "        shuffle=True\n",
    "    )\n",
    " \n",
    "    train_df = pd.concat([train_df, train_samples], ignore_index=True)\n",
    "    test_df = pd.concat([test_df, test_samples], ignore_index=True)\n",
    "\n",
    "print('finish')"
   ]
  },
  {
   "cell_type": "code",
   "execution_count": 4,
   "id": "f48669a5-2675-49d0-bc6b-d22387b85171",
   "metadata": {},
   "outputs": [],
   "source": [
    "def printresult_pro(y_true, y_pred, y_proba, label_names=None, top_n=3):\n",
    "    print(\"Evaluation Metrics:\")\n",
    "    print(\"Accuracy Score:\", metrics.accuracy_score(y_true, y_pred))\n",
    "    print(\"Recall Score (macro):\", metrics.recall_score(y_true, y_pred, average='macro'))\n",
    "    print(\"F1 Score (macro):\", metrics.f1_score(y_true, y_pred, average='macro'))\n",
    "    print(\"Confusion Matrix:\")\n",
    "    print(metrics.confusion_matrix(y_true, y_pred))\n",
    "\n",
    "    # 2. precision / recall / f1\n",
    "    print(\"\\nPer-Class Performance:\")\n",
    "    report = metrics.classification_report(y_true, y_pred, target_names=label_names, digits=3)\n",
    "    print(report)"
   ]
  },
  {
   "cell_type": "code",
   "execution_count": 5,
   "id": "d8ef1467",
   "metadata": {},
   "outputs": [],
   "source": [
    "train_lbp = np.array(train_df['lbp_features'].tolist())\n",
    "test_lbp = np.array(test_df['lbp_features'].tolist())\n",
    "\n",
    "\n",
    "# pca = PCA(n_components=40)  #\n",
    "# train_lbp = pca.fit_transform(train_lbp)\n",
    "# test_lbp = pca.transform(test_lbp)\n",
    "\n",
    "# scaler = StandardScaler() # scaler\n",
    "# train_lbp = scaler.fit_transform(train_lbp)\n",
    "# test_lbp = scaler.transform(test_lbp)\n",
    "\n",
    "y_train = np.array(train_df['code'])\n",
    "y_test = np.array(test_df['code'])\n"
   ]
  },
  {
   "cell_type": "markdown",
   "id": "34278244-25c5-4cee-b551-72f96ee1f684",
   "metadata": {},
   "source": [
    "KNN-lbp"
   ]
  },
  {
   "cell_type": "code",
   "execution_count": 6,
   "id": "532c4939",
   "metadata": {},
   "outputs": [
    {
     "name": "stderr",
     "output_type": "stream",
     "text": [
      "C:\\Users\\lele1\\anaconda3\\envs\\comp9417\\Lib\\site-packages\\joblib\\externals\\loky\\backend\\context.py:136: UserWarning: Could not find the number of physical cores for the following reason:\n",
      "[WinError 2] 系统找不到指定的文件。\n",
      "Returning the number of logical cores instead. You can silence this warning by setting LOKY_MAX_CPU_COUNT to the number of cores you want to use.\n",
      "  warnings.warn(\n",
      "  File \"C:\\Users\\lele1\\anaconda3\\envs\\comp9417\\Lib\\site-packages\\joblib\\externals\\loky\\backend\\context.py\", line 257, in _count_physical_cores\n",
      "    cpu_info = subprocess.run(\n",
      "               ^^^^^^^^^^^^^^^\n",
      "  File \"C:\\Users\\lele1\\anaconda3\\envs\\comp9417\\Lib\\subprocess.py\", line 550, in run\n",
      "    with Popen(*popenargs, **kwargs) as process:\n",
      "         ^^^^^^^^^^^^^^^^^^^^^^^^^^^\n",
      "  File \"C:\\Users\\lele1\\anaconda3\\envs\\comp9417\\Lib\\subprocess.py\", line 1028, in __init__\n",
      "    self._execute_child(args, executable, preexec_fn, close_fds,\n",
      "  File \"C:\\Users\\lele1\\anaconda3\\envs\\comp9417\\Lib\\subprocess.py\", line 1540, in _execute_child\n",
      "    hp, ht, pid, tid = _winapi.CreateProcess(executable, args,\n",
      "                       ^^^^^^^^^^^^^^^^^^^^^^^^^^^^^^^^^^^^^^^\n"
     ]
    }
   ],
   "source": [
    "knn_lbp = KNeighborsClassifier(n_neighbors=3, weights='distance')\n",
    "\n",
    "knn_lbp.fit(train_lbp, y_train)\n",
    "knn_lbp_predict_y = knn_lbp.predict(test_lbp)\n",
    "knn_clf_predict_y_proba = knn_lbp.predict_proba(test_lbp)\n",
    "\n"
   ]
  },
  {
   "cell_type": "code",
   "execution_count": 7,
   "id": "779cc180-4e42-4a53-b2f7-719371eabffa",
   "metadata": {},
   "outputs": [
    {
     "name": "stdout",
     "output_type": "stream",
     "text": [
      "KNN-lbp:\n",
      "Evaluation Metrics:\n",
      "Accuracy Score: 0.49291666666666667\n",
      "Recall Score (macro): 0.49291666666666667\n",
      "F1 Score (macro): 0.49090442081383984\n",
      "Confusion Matrix:\n",
      "[[ 71  22  17   1  10   0   7   3   2   5   5   2   2   3  10]\n",
      " [ 13  59   2  10   2   0   1  20   3  12   6   0  14  11   7]\n",
      " [ 10   5  55   1  19   0   5   1  19   6   4  13   0   8  14]\n",
      " [  3  11   1  71   0   0   0   9   0   7  13   3  26  10   6]\n",
      " [  7   2  18   1  83   1  13   1   3  14   1   1   0   7   8]\n",
      " [  0   0   0   1   3 126  11   0   4   7   0   1   0   7   0]\n",
      " [  2   1   8   0   9  24 106   2   1   2   0   0   0   2   3]\n",
      " [  8  22   2   8   5   0   1  58   2   4   7   3  19  17   4]\n",
      " [  2   2  21   2   3   1   1   1  68   6   0  25   0   6  22]\n",
      " [  6   9   3   4   7   8   4   0   3  98   0   1   3   4  10]\n",
      " [  5  10   8  15   1   0   1  12   2   4  71   7   4  13   7]\n",
      " [  3   2   6   5   0   0   0   1  15   0   8 112   0   2   6]\n",
      " [  1  17   0  34   1   0   0  19   1   7   4   0  63  10   3]\n",
      " [  0   5   4  10   0   3   0   5   1  14  13   4   2  93   6]\n",
      " [  8  10  14   3   5   2   4   4  21  16   6   7   1  10  49]]\n",
      "\n",
      "Per-Class Performance:\n",
      "              precision    recall  f1-score   support\n",
      "\n",
      " Agriculture      0.511     0.444     0.475       160\n",
      "     Airport      0.333     0.369     0.350       160\n",
      "       Beach      0.346     0.344     0.345       160\n",
      "        City      0.428     0.444     0.436       160\n",
      "      Desert      0.561     0.519     0.539       160\n",
      "      Forest      0.764     0.787     0.775       160\n",
      "   Grassland      0.688     0.662     0.675       160\n",
      "     Highway      0.426     0.362     0.392       160\n",
      "        Lake      0.469     0.425     0.446       160\n",
      "    Mountain      0.485     0.613     0.541       160\n",
      "     Parking      0.514     0.444     0.477       160\n",
      "        Port      0.626     0.700     0.661       160\n",
      "     Railway      0.470     0.394     0.429       160\n",
      " Residential      0.458     0.581     0.512       160\n",
      "       River      0.316     0.306     0.311       160\n",
      "\n",
      "    accuracy                          0.493      2400\n",
      "   macro avg      0.493     0.493     0.491      2400\n",
      "weighted avg      0.493     0.493     0.491      2400\n",
      "\n"
     ]
    }
   ],
   "source": [
    "###### result for KNN-sift_features\n",
    "print(\"KNN-lbp:\")\n",
    "#printresult(y_test, knn_lbp_predict_y)\n",
    "printresult_pro(y_test, knn_lbp_predict_y, knn_clf_predict_y_proba,label_names=label_list)\n"
   ]
  },
  {
   "cell_type": "markdown",
   "id": "48720369-82d2-459c-9767-cdad2afb890c",
   "metadata": {},
   "source": [
    "SVC-LBP"
   ]
  },
  {
   "cell_type": "code",
   "execution_count": 8,
   "id": "b497f844",
   "metadata": {},
   "outputs": [],
   "source": [
    "svc_lbp = SVC(kernel='rbf', random_state=RANDOMSEED,probability=True)\n",
    "svc_lbp.fit(train_lbp, y_train)\n",
    "svc_lbp_predict = svc_lbp.predict(test_lbp)\n",
    "svc_lbp_prob = svc_lbp.predict_proba(test_lbp)\n"
   ]
  },
  {
   "cell_type": "code",
   "execution_count": 9,
   "id": "3dbaf693-c43e-401e-805d-07cf1247c4af",
   "metadata": {},
   "outputs": [
    {
     "name": "stdout",
     "output_type": "stream",
     "text": [
      "svc-lbp:\n",
      "Evaluation Metrics:\n",
      "Accuracy Score: 0.46541666666666665\n",
      "Recall Score (macro): 0.46541666666666653\n",
      "F1 Score (macro): 0.45957031713964486\n",
      "Confusion Matrix:\n",
      "[[ 75  19  11   0  15   0   2   4   2   8   5   2   4   1  12]\n",
      " [ 17  44   1   8   2   1   1  21   0  22  13   0  16   6   8]\n",
      " [  5   2  51   1  24   2   1   1  13   8   7  11   0  13  21]\n",
      " [  2  19   0  53   2   0   0  14   1  13  13   0  20  18   5]\n",
      " [  6   2  19   1  88   1   7   0   0  28   0   0   1   6   1]\n",
      " [  0   0   0   0   0 135   7   0   0  15   0   2   0   0   1]\n",
      " [  5   0   3   0  14  37  91   1   0   2   1   0   0   4   2]\n",
      " [  8  23   1   5   3   3   0  55   0  14   7   2  18  20   1]\n",
      " [  1   0  13   0   9   4   3   0  62  13   0  31   0   0  24]\n",
      " [  0   3   0   3   7  11   3   0   0 121   0   0   3   6   3]\n",
      " [  4  18   0  10   0   0   1  10   0   7  63   6   4  28   9]\n",
      " [  5   2   7   2   1   0   0   0  12   2   6 113   0   2   8]\n",
      " [  1  13   0  29   0   0   0  20   0  20   8   1  55  11   2]\n",
      " [  0   4   0   3   5   7   2   6   0  46   9   0   2  73   3]\n",
      " [  6  14   5   1  10   5   9   1  20  26  12   3   0  10  38]]\n",
      "\n",
      "Per-Class Performance:\n",
      "              precision    recall  f1-score   support\n",
      "\n",
      " Agriculture      0.556     0.469     0.508       160\n",
      "     Airport      0.270     0.275     0.272       160\n",
      "       Beach      0.459     0.319     0.376       160\n",
      "        City      0.457     0.331     0.384       160\n",
      "      Desert      0.489     0.550     0.518       160\n",
      "      Forest      0.655     0.844     0.738       160\n",
      "   Grassland      0.717     0.569     0.634       160\n",
      "     Highway      0.414     0.344     0.375       160\n",
      "        Lake      0.564     0.388     0.459       160\n",
      "    Mountain      0.351     0.756     0.479       160\n",
      "     Parking      0.438     0.394     0.414       160\n",
      "        Port      0.661     0.706     0.683       160\n",
      "     Railway      0.447     0.344     0.389       160\n",
      " Residential      0.369     0.456     0.408       160\n",
      "       River      0.275     0.237     0.255       160\n",
      "\n",
      "    accuracy                          0.465      2400\n",
      "   macro avg      0.475     0.465     0.460      2400\n",
      "weighted avg      0.475     0.465     0.460      2400\n",
      "\n"
     ]
    }
   ],
   "source": [
    "#result for svc-lbp\n",
    "print(\"svc-lbp:\")\n",
    "printresult_pro(y_test, svc_lbp_predict, svc_lbp_prob,label_names=label_list)\n"
   ]
  },
  {
   "cell_type": "code",
   "execution_count": 10,
   "id": "3c788e7f-746b-48e9-bf12-e89ea7f88d5b",
   "metadata": {},
   "outputs": [],
   "source": [
    "rf_lbp = RandomForestClassifier(n_estimators=100, random_state=RANDOMSEED)\n",
    "rf_lbp.fit(train_lbp, y_train)\n",
    "rf_lbp_predict = rf_lbp.predict(test_lbp)\n",
    "rf_lbp_prob = rf_lbp.predict_proba(test_lbp)"
   ]
  },
  {
   "cell_type": "code",
   "execution_count": 11,
   "id": "c2daf45d-5bd5-45bf-ad20-dbec79b64cf0",
   "metadata": {},
   "outputs": [
    {
     "name": "stdout",
     "output_type": "stream",
     "text": [
      "rf-lbp:\n",
      "Evaluation Metrics:\n",
      "Accuracy Score: 0.5620833333333334\n",
      "Recall Score (macro): 0.5620833333333334\n",
      "F1 Score (macro): 0.5599111210579142\n",
      "Confusion Matrix:\n",
      "[[ 93  15   9   1  13   0   3   3   2   2   4   1   6   1   7]\n",
      " [ 14  67   1  10   1   0   0  21   2   8  11   0  13   9   3]\n",
      " [  4   5  69   1  17   2   1   0  15   6   5  10   0   8  17]\n",
      " [  2  10   0  80   1   0   0   9   2   5  17   0  23   8   3]\n",
      " [ 10   1  15   0  95   0   7   2   1  15   0   0   2   6   6]\n",
      " [  0   0   1   0   1 134  11   0   3   6   0   1   0   2   1]\n",
      " [  3   1   5   0  11  21 111   4   0   2   0   0   0   1   1]\n",
      " [  7  28   1   4   2   0   1  71   1   6   9   1  11  16   2]\n",
      " [  1   2  21   0   6   1   2   1  79   7   0  17   0   1  22]\n",
      " [  0   2   0   3   8   6   4   0   1 117   0   0   4   9   6]\n",
      " [  3  14   1  16   1   0   0   6   0   1  88   7   5  11   7]\n",
      " [  4   0   5   6   0   0   0   0  13   1   7 116   0   2   6]\n",
      " [  0  15   0  29   0   0   0  20   1   8   4   0  75   5   3]\n",
      " [  1   5   0   5   3   3   0   7   0  15  11   0   3 103   4]\n",
      " [  2   5  12   6   5   1   5   1  26  23   9   4   1   9  51]]\n",
      "\n",
      "Per-Class Performance:\n",
      "              precision    recall  f1-score   support\n",
      "\n",
      " Agriculture      0.646     0.581     0.612       160\n",
      "     Airport      0.394     0.419     0.406       160\n",
      "       Beach      0.493     0.431     0.460       160\n",
      "        City      0.497     0.500     0.498       160\n",
      "      Desert      0.579     0.594     0.586       160\n",
      "      Forest      0.798     0.838     0.817       160\n",
      "   Grassland      0.766     0.694     0.728       160\n",
      "     Highway      0.490     0.444     0.466       160\n",
      "        Lake      0.541     0.494     0.516       160\n",
      "    Mountain      0.527     0.731     0.613       160\n",
      "     Parking      0.533     0.550     0.542       160\n",
      "        Port      0.739     0.725     0.732       160\n",
      "     Railway      0.524     0.469     0.495       160\n",
      " Residential      0.539     0.644     0.587       160\n",
      "       River      0.367     0.319     0.341       160\n",
      "\n",
      "    accuracy                          0.562      2400\n",
      "   macro avg      0.562     0.562     0.560      2400\n",
      "weighted avg      0.562     0.562     0.560      2400\n",
      "\n"
     ]
    }
   ],
   "source": [
    "#result for rf-lbp\n",
    "print(\"rf-lbp:\")\n",
    "printresult_pro(y_test, rf_lbp_predict, rf_lbp_prob,label_names=label_list)\n"
   ]
  }
 ],
 "metadata": {
  "kernelspec": {
   "display_name": "Comp9417_2025-04-20",
   "language": "python",
   "name": "comp9417"
  },
  "language_info": {
   "codemirror_mode": {
    "name": "ipython",
    "version": 3
   },
   "file_extension": ".py",
   "mimetype": "text/x-python",
   "name": "python",
   "nbconvert_exporter": "python",
   "pygments_lexer": "ipython3",
   "version": "3.12.9"
  }
 },
 "nbformat": 4,
 "nbformat_minor": 5
}
