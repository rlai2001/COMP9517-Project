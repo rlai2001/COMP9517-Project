{
 "cells": [
  {
   "cell_type": "code",
   "execution_count": 1,
   "id": "71403c7f",
   "metadata": {},
   "outputs": [],
   "source": [
    "import os\n",
    "import cv2\n",
    "import numpy as np\n",
    "import pandas as pd\n",
    "import matplotlib.pyplot as plt\n",
    "from sklearn.model_selection import train_test_split\n",
    "from sklearn import metrics\n",
    "from sklearn.neighbors import KNeighborsClassifier\n",
    "from sklearn.svm import SVC\n",
    "from sklearn.ensemble import RandomForestClassifier\n",
    "from sklearn.cluster import MiniBatchKMeans\n",
    "from skimage.feature import local_binary_pattern\n",
    "\n",
    "\n",
    "dataset_path='Dataset'\n",
    "RANDOMSEED=1277\n",
    "num_type=15\n",
    "N_CLUSTERS = 100    \n",
    "MAX_SAMPLES = 125     \n",
    "label_list = [\n",
    "    \"Agriculture\", \"Airport\", \"Beach\", \"City\", \"Desert\", \"Forest\",\n",
    "    \"Grassland\", \"Highway\", \"Lake\", \"Mountain\", \"Parking\", \"Port\",\n",
    "    \"Railway\", \"Residential\", \"River\"\n",
    "]"
   ]
  },
  {
   "cell_type": "code",
   "execution_count": 2,
   "id": "d5e629f3-e8ab-4202-a99b-7ab2143b19e6",
   "metadata": {},
   "outputs": [],
   "source": [
    "code = pd.read_pickle(\"D:/temp/index_df_code.pkl\")\n",
    "sift_features = pd.read_pickle(\"D:/temp/index_df_sift_features.pkl\")\n",
    "\n",
    "index_df = pd.concat([code, sift_features], axis=1)"
   ]
  },
  {
   "cell_type": "code",
   "execution_count": 3,
   "id": "e6dd95ae-ad60-41eb-beef-49c648d28b90",
   "metadata": {},
   "outputs": [],
   "source": [
    "def create_visual_vocabulary(descriptors_list, n_clusters=N_CLUSTERS, max_samples=MAX_SAMPLES):\n",
    "    all_descriptors = np.vstack([d for d in descriptors_list if len(d) > 0])\n",
    "    \n",
    "    if len(all_descriptors) > max_samples:\n",
    "        np.random.seed(RANDOMSEED)\n",
    "        all_descriptors = all_descriptors[np.random.choice(len(all_descriptors), max_samples, replace=False)]\n",
    "    \n",
    "    # use MiniBatchKMeans\n",
    "    kmeans = MiniBatchKMeans(n_clusters=n_clusters, random_state=RANDOMSEED)\n",
    "    kmeans.fit(all_descriptors)\n",
    "    return kmeans"
   ]
  },
  {
   "cell_type": "code",
   "execution_count": 4,
   "id": "d78cef95-c004-452b-be34-5d49fcae995c",
   "metadata": {},
   "outputs": [],
   "source": [
    "def extract_bow_features(descriptors_list, kmeans):\n",
    "    n_clusters = kmeans.n_clusters\n",
    "    features = []\n",
    "    total = len(descriptors_list)\n",
    "\n",
    "    for i, descriptors in enumerate(descriptors_list):\n",
    "        print(f\"take BOW features:{i+1}/{total}\",end='\\r')\n",
    "\n",
    "        hist = np.zeros(n_clusters)\n",
    "        if descriptors is not None and len(descriptors) > 0:\n",
    "            labels = kmeans.predict(descriptors)\n",
    "            counts = np.bincount(labels)\n",
    "            if len(counts) < n_clusters:\n",
    "                hist[:len(counts)] = counts\n",
    "            else:\n",
    "                hist = counts[:n_clusters]\n",
    "            hist = hist.astype(np.float32)\n",
    "            hist /= hist.sum() + 1e-7\n",
    "        features.append(hist)\n",
    "\n",
    "    return np.array(features)\n"
   ]
  },
  {
   "cell_type": "code",
   "execution_count": 5,
   "id": "74a1b3ba",
   "metadata": {},
   "outputs": [
    {
     "name": "stdout",
     "output_type": "stream",
     "text": [
      "12000\n",
      "finish\n"
     ]
    }
   ],
   "source": [
    "totsize=len(index_df)\n",
    "print(totsize)\n",
    "train_size=int(totsize*0.8)\n",
    "test_size=int(totsize*0.2)\n",
    "\n",
    "train_per_code=train_size//num_type\n",
    "test_per_code=test_size//num_type\n",
    "\n",
    "train_df=pd.DataFrame()\n",
    "test_df=pd.DataFrame()\n",
    "# use train_test_split to split test and train set\n",
    "for code in index_df['code'].unique():\n",
    "    # every word, each word is code\n",
    "    sample_code= index_df[index_df['code'] == code]\n",
    "    train_samples, test_samples = train_test_split(\n",
    "        sample_code, \n",
    "        test_size=test_per_code, \n",
    "        train_size=train_per_code,\n",
    "        random_state=RANDOMSEED, \n",
    "        shuffle=True\n",
    "    )\n",
    " \n",
    "    train_df = pd.concat([train_df, train_samples], ignore_index=True)\n",
    "    test_df = pd.concat([test_df, test_samples], ignore_index=True)\n",
    "\n",
    "print('finish')"
   ]
  },
  {
   "cell_type": "code",
   "execution_count": 6,
   "id": "aec99168-eb93-41b6-afe3-e91cec32c573",
   "metadata": {},
   "outputs": [],
   "source": [
    "def printresult_pro(y_true, y_pred, y_proba, label_names=None, top_n=3):\n",
    "    # 1. normal score\n",
    "    print(\"Evaluation Metrics:\")\n",
    "    print(\"Accuracy Score:\", metrics.accuracy_score(y_true, y_pred))\n",
    "    print(\"Recall Score (macro):\", metrics.recall_score(y_true, y_pred, average='macro'))\n",
    "    print(\"F1 Score (macro):\", metrics.f1_score(y_true, y_pred, average='macro'))\n",
    "    print(\"Confusion Matrix:\")\n",
    "    print(metrics.confusion_matrix(y_true, y_pred))\n",
    "\n",
    "    # 2. precision / recall / f1 sorce for every class\n",
    "    print(\"\\nPer-Class Performance:\")\n",
    "    report = metrics.classification_report(y_true, y_pred, target_names=label_names, digits=3)\n",
    "    print(report)\n",
    "\n"
   ]
  },
  {
   "cell_type": "markdown",
   "id": "1fbacb6f",
   "metadata": {},
   "source": [
    "KNN-sift_features"
   ]
  },
  {
   "cell_type": "code",
   "execution_count": 7,
   "id": "d8ef1467",
   "metadata": {},
   "outputs": [
    {
     "name": "stderr",
     "output_type": "stream",
     "text": [
      "C:\\Users\\lele1\\anaconda3\\envs\\comp9417\\Lib\\site-packages\\joblib\\externals\\loky\\backend\\context.py:136: UserWarning: Could not find the number of physical cores for the following reason:\n",
      "[WinError 2] 系统找不到指定的文件。\n",
      "Returning the number of logical cores instead. You can silence this warning by setting LOKY_MAX_CPU_COUNT to the number of cores you want to use.\n",
      "  warnings.warn(\n",
      "  File \"C:\\Users\\lele1\\anaconda3\\envs\\comp9417\\Lib\\site-packages\\joblib\\externals\\loky\\backend\\context.py\", line 257, in _count_physical_cores\n",
      "    cpu_info = subprocess.run(\n",
      "               ^^^^^^^^^^^^^^^\n",
      "  File \"C:\\Users\\lele1\\anaconda3\\envs\\comp9417\\Lib\\subprocess.py\", line 550, in run\n",
      "    with Popen(*popenargs, **kwargs) as process:\n",
      "         ^^^^^^^^^^^^^^^^^^^^^^^^^^^\n",
      "  File \"C:\\Users\\lele1\\anaconda3\\envs\\comp9417\\Lib\\subprocess.py\", line 1028, in __init__\n",
      "    self._execute_child(args, executable, preexec_fn, close_fds,\n",
      "  File \"C:\\Users\\lele1\\anaconda3\\envs\\comp9417\\Lib\\subprocess.py\", line 1540, in _execute_child\n",
      "    hp, ht, pid, tid = _winapi.CreateProcess(executable, args,\n",
      "                       ^^^^^^^^^^^^^^^^^^^^^^^^^^^^^^^^^^^^^^^\n",
      "C:\\Users\\lele1\\anaconda3\\envs\\comp9417\\Lib\\site-packages\\sklearn\\cluster\\_kmeans.py:1955: UserWarning: MiniBatchKMeans is known to have a memory leak on Windows with MKL, when there are less chunks than available threads. You can prevent it by setting batch_size >= 5120 or by setting the environment variable OMP_NUM_THREADS=1\n",
      "  warnings.warn(\n"
     ]
    },
    {
     "name": "stdout",
     "output_type": "stream",
     "text": [
      "Visual vocabulary created.\n",
      "take BOW features:2400/2400"
     ]
    }
   ],
   "source": [
    "# Extract a subset of training SIFT descriptors for clustering\n",
    "train_sift_sample, _ = train_test_split(train_df['sift_features'], test_size=0.7, random_state=RANDOMSEED)\n",
    "kmeans = create_visual_vocabulary(train_sift_sample)\n",
    "print(\"Visual vocabulary created.\")\n",
    "\n",
    "# Retrieve full SIFT features from training and test sets\n",
    "full_train_sift = train_df['sift_features']\n",
    "test_sift_features = test_df['sift_features']\n",
    "\n",
    "# Convert SIFT descriptors into Bag of Words (BoW) feature vectors\n",
    "X_train_bow = extract_bow_features(full_train_sift, kmeans)\n",
    "X_test_bow = extract_bow_features(test_sift_features, kmeans)\n",
    "\n",
    "# Extract class labels\n",
    "y_train = np.array(train_df['code'])\n",
    "y_test = np.array(test_df['code'])\n"
   ]
  },
  {
   "cell_type": "code",
   "execution_count": 8,
   "id": "532c4939",
   "metadata": {},
   "outputs": [],
   "source": [
    "knn_clf_bow = KNeighborsClassifier(n_neighbors=3)\n",
    "knn_clf_bow.fit(X_train_bow, y_train)\n",
    "knn_clf_bow_predict_y = knn_clf_bow.predict(X_test_bow)\n",
    "knn_clf_bow_proba_y = knn_clf_bow.predict_proba(X_test_bow)\n",
    "\n"
   ]
  },
  {
   "cell_type": "code",
   "execution_count": 9,
   "id": "c33ba963",
   "metadata": {},
   "outputs": [
    {
     "name": "stdout",
     "output_type": "stream",
     "text": [
      "KNN-sift_features:\n",
      "Evaluation Metrics:\n",
      "Accuracy Score: 0.46291666666666664\n",
      "Recall Score (macro): 0.4629166666666667\n",
      "F1 Score (macro): 0.45564962084396504\n",
      "Confusion Matrix:\n",
      "[[ 91  11   5   8   3   0   0  14  10   1   1   0   5   5   6]\n",
      " [  9  86   1  22   0   1   0  16   3   1   1   1  16   2   1]\n",
      " [ 16  11  51  17   4   3   1  13  11  12   1   5   3   4   8]\n",
      " [  3  15   0 112   0   0   0   4   2   2   0   3  11   5   3]\n",
      " [ 27   6  20   6  53   8  12   3   4  13   3   0   1   1   3]\n",
      " [  0   1   2   0   3 136   6   2   1   4   0   0   1   2   2]\n",
      " [ 21   9  13   4  17  20  45   3   4   4   7   2   0   6   5]\n",
      " [  9  23   7  15   3   0   0  63   3   2   2   2  23   3   5]\n",
      " [ 18  22  18  16   5   4   5  11  27  14   2   0   2   9   7]\n",
      " [  4   3   9  14   7   1   2   4  11  88   0   1   4   3   9]\n",
      " [  0  18   0   7   6   2   1   5   4   0 103   0   6   5   3]\n",
      " [  5  32   3  35   1   0   0   7   1   3   1  57  13   0   2]\n",
      " [  1  25   2  21   0   0   1  17   0   2   0   3  87   0   1]\n",
      " [  2   7   3  29   3   5   1   2   7   5   2   0   3  89   2]\n",
      " [ 16  21  16  15   3  11   1  13  15  11   1   6   3   5  23]]\n",
      "\n",
      "Per-Class Performance:\n",
      "              precision    recall  f1-score   support\n",
      "\n",
      " Agriculture      0.410     0.569     0.476       160\n",
      "     Airport      0.297     0.537     0.382       160\n",
      "       Beach      0.340     0.319     0.329       160\n",
      "        City      0.349     0.700     0.466       160\n",
      "      Desert      0.491     0.331     0.396       160\n",
      "      Forest      0.712     0.850     0.775       160\n",
      "   Grassland      0.600     0.281     0.383       160\n",
      "     Highway      0.356     0.394     0.374       160\n",
      "        Lake      0.262     0.169     0.205       160\n",
      "    Mountain      0.543     0.550     0.547       160\n",
      "     Parking      0.831     0.644     0.725       160\n",
      "        Port      0.713     0.356     0.475       160\n",
      "     Railway      0.489     0.544     0.515       160\n",
      " Residential      0.640     0.556     0.595       160\n",
      "       River      0.287     0.144     0.192       160\n",
      "\n",
      "    accuracy                          0.463      2400\n",
      "   macro avg      0.488     0.463     0.456      2400\n",
      "weighted avg      0.488     0.463     0.456      2400\n",
      "\n"
     ]
    }
   ],
   "source": [
    "#result for KNN-sift_features\n",
    "print(\"KNN-sift_features:\")\n",
    "printresult_pro(y_test, knn_clf_bow_predict_y, knn_clf_bow_proba_y,label_names=label_list)\n"
   ]
  },
  {
   "cell_type": "code",
   "execution_count": 10,
   "id": "b497f844",
   "metadata": {},
   "outputs": [],
   "source": [
    "svm_rbf_sift = SVC(kernel='rbf', random_state=RANDOMSEED,probability=True)\n",
    "svm_rbf_sift.fit(X_train_bow, y_train)\n",
    "svm_rbf_sift_predict = svm_rbf_sift.predict(X_test_bow)\n",
    "svm_rbf_sift_proba = svm_rbf_sift.predict_proba(X_test_bow)\n"
   ]
  },
  {
   "cell_type": "code",
   "execution_count": 11,
   "id": "3dbaf693-c43e-401e-805d-07cf1247c4af",
   "metadata": {},
   "outputs": [
    {
     "name": "stdout",
     "output_type": "stream",
     "text": [
      "SVM with SIFT (BOW features):\n",
      "Evaluation Metrics:\n",
      "Accuracy Score: 0.59875\n",
      "Recall Score (macro): 0.5987500000000001\n",
      "F1 Score (macro): 0.5911951651059845\n",
      "Confusion Matrix:\n",
      "[[103   2   6   2   9   0   9   5   2   0   1   1   4   6  10]\n",
      " [ 10  83   1  10   1   2   0  11   3   1   3   7  18   4   6]\n",
      " [  3   3  85   3   9   4   5  10   8   9   1   8   1   1  10]\n",
      " [  0  11   3 105   1   1   0   4   0   1   2  13   8   9   2]\n",
      " [  6   1   5   1  83   7  26   0   4  17   0   2   1   1   6]\n",
      " [  0   0   1   0   5 135   7   2   2   2   0   0   0   3   3]\n",
      " [ 12   3   4   0  19  11  78   4   9   2   3   0   2   6   7]\n",
      " [  1   9   1   2   4   0   1 101   7   1   3   2  11   8   9]\n",
      " [  8   5  17   0   5  13   6  13  36  14   1   4   0  12  26]\n",
      " [  1   0   6   5   8   4   1   0   6 116   0   1   0   2  10]\n",
      " [  0   1   0   1   0   0   1  10   1   1 137   1   4   1   2]\n",
      " [  1  16   1  24   0   1   0   2   1   2   3  94   9   0   6]\n",
      " [  1  16   0   9   0   0   0  19   0   2   1   9 102   0   1]\n",
      " [  3   2   0   8   4   2   1   2   2   3   3   0   2 125   3]\n",
      " [  7   3  12   8   5   8   6   8   7  18   2   7   5  10  54]]\n",
      "\n",
      "Per-Class Performance:\n",
      "              precision    recall  f1-score   support\n",
      "\n",
      " Agriculture      0.660     0.644     0.652       160\n",
      "     Airport      0.535     0.519     0.527       160\n",
      "       Beach      0.599     0.531     0.563       160\n",
      "        City      0.590     0.656     0.621       160\n",
      "      Desert      0.542     0.519     0.530       160\n",
      "      Forest      0.718     0.844     0.776       160\n",
      "   Grassland      0.553     0.487     0.518       160\n",
      "     Highway      0.529     0.631     0.575       160\n",
      "        Lake      0.409     0.225     0.290       160\n",
      "    Mountain      0.614     0.725     0.665       160\n",
      "     Parking      0.856     0.856     0.856       160\n",
      "        Port      0.631     0.588     0.608       160\n",
      "     Railway      0.611     0.637     0.624       160\n",
      " Residential      0.665     0.781     0.718       160\n",
      "       River      0.348     0.338     0.343       160\n",
      "\n",
      "    accuracy                          0.599      2400\n",
      "   macro avg      0.591     0.599     0.591      2400\n",
      "weighted avg      0.591     0.599     0.591      2400\n",
      "\n"
     ]
    }
   ],
   "source": [
    "print(\"SVM with SIFT (BOW features):\")\n",
    "printresult_pro(y_test, svm_rbf_sift_predict, svm_rbf_sift_proba,label_names=label_list)\n"
   ]
  },
  {
   "cell_type": "code",
   "execution_count": 12,
   "id": "c7632858-9755-4776-84c0-afd2c25a0f91",
   "metadata": {},
   "outputs": [],
   "source": [
    "rf_clf_bow = RandomForestClassifier(n_estimators=100, random_state=RANDOMSEED)\n",
    "rf_clf_bow.fit(X_train_bow, y_train)\n",
    "rf_clf_bow_predict = rf_clf_bow.predict(X_test_bow)\n",
    "rf_clf_bow_prob = rf_clf_bow.predict_proba(X_test_bow)\n"
   ]
  },
  {
   "cell_type": "code",
   "execution_count": 13,
   "id": "3c788e7f-746b-48e9-bf12-e89ea7f88d5b",
   "metadata": {},
   "outputs": [
    {
     "name": "stdout",
     "output_type": "stream",
     "text": [
      "Random Forest with SIFT (BOW features):\n",
      "Evaluation Metrics:\n",
      "Accuracy Score: 0.5833333333333334\n",
      "Recall Score (macro): 0.5833333333333334\n",
      "F1 Score (macro): 0.5687366879972123\n",
      "Confusion Matrix:\n",
      "[[ 96   9   6   3  10   0   7   8   6   1   1   2   1   6   4]\n",
      " [  7  79   0  12   2   0   0  19   5   3   2  11  15   4   1]\n",
      " [  3   2  89   4   7   1   8  11  11   7   2   6   0   4   5]\n",
      " [  1   5   0 106   1   1   0   4   0   1   1  15  12  12   1]\n",
      " [  3   0   5   0  87   6  23   3   8  15   1   3   0   1   5]\n",
      " [  1   0   0   0   4 135  10   1   2   3   0   0   0   3   1]\n",
      " [ 13   1   7   0  21   7  87   0   2   1   6   0   1   9   5]\n",
      " [  3   9   4   3   8   1   0  97   3   3   4   2  11  10   2]\n",
      " [ 11  10  25   2   5  12   6  13  22  22   4   3   0  13  12]\n",
      " [  3   0   6   4   6   6   3   0   4 110   0   1   1   9   7]\n",
      " [  0   3   0   1   1   1   3   5   0   0 134   2   5   3   2]\n",
      " [  3  12   1  18   1   1   0   4   1   2   3  98  10   0   6]\n",
      " [  1   7   0   9   0   0   0  19   0   2   0  18 103   0   1]\n",
      " [  3   3   0   8   0   2   1   2   3   2   7   0   1 127   1]\n",
      " [  8   5  15  11   5   7   7  11  16  17   2  11   4  11  30]]\n",
      "\n",
      "Per-Class Performance:\n",
      "              precision    recall  f1-score   support\n",
      "\n",
      " Agriculture      0.615     0.600     0.608       160\n",
      "     Airport      0.545     0.494     0.518       160\n",
      "       Beach      0.563     0.556     0.560       160\n",
      "        City      0.586     0.662     0.622       160\n",
      "      Desert      0.551     0.544     0.547       160\n",
      "      Forest      0.750     0.844     0.794       160\n",
      "   Grassland      0.561     0.544     0.552       160\n",
      "     Highway      0.492     0.606     0.543       160\n",
      "        Lake      0.265     0.138     0.181       160\n",
      "    Mountain      0.582     0.688     0.630       160\n",
      "     Parking      0.802     0.838     0.820       160\n",
      "        Port      0.570     0.613     0.590       160\n",
      "     Railway      0.628     0.644     0.636       160\n",
      " Residential      0.599     0.794     0.683       160\n",
      "       River      0.361     0.188     0.247       160\n",
      "\n",
      "    accuracy                          0.583      2400\n",
      "   macro avg      0.565     0.583     0.569      2400\n",
      "weighted avg      0.565     0.583     0.569      2400\n",
      "\n"
     ]
    }
   ],
   "source": [
    "print(\"Random Forest with SIFT (BOW features):\")\n",
    "printresult_pro(y_test, rf_clf_bow_predict, rf_clf_bow_prob,label_names=label_list)\n"
   ]
  },
  {
   "cell_type": "code",
   "execution_count": null,
   "id": "ca0e405a-9ea1-4a10-be1b-af42ea64b310",
   "metadata": {},
   "outputs": [],
   "source": []
  }
 ],
 "metadata": {
  "kernelspec": {
   "display_name": "Comp9417_2025-04-20",
   "language": "python",
   "name": "comp9417"
  },
  "language_info": {
   "codemirror_mode": {
    "name": "ipython",
    "version": 3
   },
   "file_extension": ".py",
   "mimetype": "text/x-python",
   "name": "python",
   "nbconvert_exporter": "python",
   "pygments_lexer": "ipython3",
   "version": "3.12.9"
  }
 },
 "nbformat": 4,
 "nbformat_minor": 5
}
